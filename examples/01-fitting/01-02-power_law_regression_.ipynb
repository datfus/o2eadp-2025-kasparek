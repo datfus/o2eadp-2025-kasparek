{
 "cells": [
  {
   "cell_type": "markdown",
   "metadata": {},
   "source": [
    "The goal of this task is to test two variants of fitting a power law model to data. Let's imagine a hypothetical multi-tokamak dataset where the power threshold for access to the H mode was measured together with the plasma parameters.\n",
    "\n",
    "* `P_lh`: power threshold of L-H mode transition. The dependent variable.\n",
    "* `n_e`: electron density.\n",
    "* `a`: plasma size.\n",
    "* `B_T`: magnetic field strength.\n",
    "* `R`: plasma shape factor.\n",
    "* `q_95`: safety factor at 95% of the plasma boundary.\n",
    "\n",
    "We assume that the data can be described by a power law scaling:\n",
    "\n",
    "$$P_{lh} = \\alpha_0 n_e^{\\alpha_{ne}} a^{\\alpha_{a}} B_T^{\\alpha_{BT}} R^{\\alpha_{R}} q_{95}^{\\alpha_{q95}}$$\n",
    "\n",
    "with Normal distributed noise of unknown amplitude on `P_lh` only (this is indeed unrealistic, in real situation there will be also significant noise on the independent variables).\n",
    "\n",
    "Your task is to compare two different approaches to fit this data.\n",
    "\n",
    "1. Use the traditional approach to derive power law coefficients from experimental data that was used in many high-profile fusion papers. I.e. first logarithmize the X data and then fit a linear model:\n",
    "\n",
    "$$\\log P_{lh} = \\log \\alpha_0 + \\alpha_{ne} \\log n_e + \\alpha_{a} \\log a + \\alpha_{BT} \\log B_T + \\alpha_{R} \\log R + \\alpha_{q95} \\log q_{95}$$\n",
    "\n",
    "2. Fit the power law directly to the datat:\n",
    "\n",
    "$$P_{lh} = \\alpha_0 n_e^{\\alpha_{ne}} a^{\\alpha_{a}} B_T^{\\alpha_{BT}} R^{\\alpha_{R}} q_{95}^{\\alpha_{q95}}$$\n",
    "\n",
    "3. What's your predction of the power threshold for a new (big) tokamak with the following parameters? (the parameters are of course not really realistic)\n",
    "* `n_e = 9 x 10^19 m^-3`\n",
    "* `a = 8 m`\n",
    "* `B_T = 9.5 T`\n",
    "* `R = 10 m`\n",
    "* `q_95 = 3`\n",
    "\n",
    "4. Send us your prediction to learn whether you new tokamak will achieve the H-mode and thus fusion ignition or not :)\n",
    "\n",
    "Hint: Investigate the data first and thing how to handle the different scales of variables and missing values. Think about uncertainties of the fitted parameters."
   ]
  },
  {
   "cell_type": "markdown",
   "metadata": {},
   "source": [
    "# Data"
   ]
  },
  {
   "cell_type": "code",
   "execution_count": 40,
   "metadata": {},
   "outputs": [],
   "source": [
    "import pandas as pd\n",
    "import numpy as np\n",
    "import scipy.stats as stats\n",
    "from scipy.optimize import curve_fit\n",
    "\n",
    "def P_lh(P,a_0,a_n_e,a_a,a_B_T,a_R,a_q_95): #calculates P_lh\n",
    "    n_e,a,B_T,R,q_95 = P\n",
    "    return a_0*n_e**a_n_e*a**a_a*B_T**a_B_T*R**a_R*q_95**a_q_95"
   ]
  },
  {
   "cell_type": "code",
   "execution_count": 31,
   "metadata": {},
   "outputs": [
    {
     "data": {
      "text/html": [
       "<div>\n",
       "<style scoped>\n",
       "    .dataframe tbody tr th:only-of-type {\n",
       "        vertical-align: middle;\n",
       "    }\n",
       "\n",
       "    .dataframe tbody tr th {\n",
       "        vertical-align: top;\n",
       "    }\n",
       "\n",
       "    .dataframe thead th {\n",
       "        text-align: right;\n",
       "    }\n",
       "</style>\n",
       "<table border=\"1\" class=\"dataframe\">\n",
       "  <thead>\n",
       "    <tr style=\"text-align: right;\">\n",
       "      <th></th>\n",
       "      <th>ne</th>\n",
       "      <th>a</th>\n",
       "      <th>BT</th>\n",
       "      <th>R</th>\n",
       "      <th>q95</th>\n",
       "      <th>P_lh</th>\n",
       "    </tr>\n",
       "  </thead>\n",
       "  <tbody>\n",
       "    <tr>\n",
       "      <th>0</th>\n",
       "      <td>4.370861e+19</td>\n",
       "      <td>1.282863</td>\n",
       "      <td>6.778285</td>\n",
       "      <td>1.465135</td>\n",
       "      <td>1.928115</td>\n",
       "      <td>8.815292e+05</td>\n",
       "    </tr>\n",
       "    <tr>\n",
       "      <th>1</th>\n",
       "      <td>9.556429e+19</td>\n",
       "      <td>6.727694</td>\n",
       "      <td>1.757260</td>\n",
       "      <td>5.782192</td>\n",
       "      <td>9.122976</td>\n",
       "      <td>8.957567e+06</td>\n",
       "    </tr>\n",
       "    <tr>\n",
       "      <th>2</th>\n",
       "      <td>7.587945e+19</td>\n",
       "      <td>3.829204</td>\n",
       "      <td>2.454658</td>\n",
       "      <td>5.865716</td>\n",
       "      <td>5.547271</td>\n",
       "      <td>4.518826e+06</td>\n",
       "    </tr>\n",
       "    <tr>\n",
       "      <th>3</th>\n",
       "      <td>6.387926e+19</td>\n",
       "      <td>5.577136</td>\n",
       "      <td>9.086988</td>\n",
       "      <td>6.736869</td>\n",
       "      <td>8.438117</td>\n",
       "      <td>9.286648e+06</td>\n",
       "    </tr>\n",
       "    <tr>\n",
       "      <th>4</th>\n",
       "      <td>2.404168e+19</td>\n",
       "      <td>9.168098</td>\n",
       "      <td>6.457862</td>\n",
       "      <td>7.534822</td>\n",
       "      <td>3.880446</td>\n",
       "      <td>6.872281e+06</td>\n",
       "    </tr>\n",
       "    <tr>\n",
       "      <th>5</th>\n",
       "      <td>2.403951e+19</td>\n",
       "      <td>3.243630</td>\n",
       "      <td>1.082773</td>\n",
       "      <td>9.782669</td>\n",
       "      <td>9.059709</td>\n",
       "      <td>1.840149e+06</td>\n",
       "    </tr>\n",
       "    <tr>\n",
       "      <th>7</th>\n",
       "      <td>8.795585e+19</td>\n",
       "      <td>7.799960</td>\n",
       "      <td>6.971516</td>\n",
       "      <td>3.906608</td>\n",
       "      <td>1.097539</td>\n",
       "      <td>1.374971e+07</td>\n",
       "    </tr>\n",
       "    <tr>\n",
       "      <th>8</th>\n",
       "      <td>6.410035e+19</td>\n",
       "      <td>3.059183</td>\n",
       "      <td>1.045554</td>\n",
       "      <td>8.156676</td>\n",
       "      <td>9.148438</td>\n",
       "      <td>3.705082e+06</td>\n",
       "    </tr>\n",
       "    <tr>\n",
       "      <th>11</th>\n",
       "      <td>9.729189e+19</td>\n",
       "      <td>2.450992</td>\n",
       "      <td>7.227057</td>\n",
       "      <td>1.706107</td>\n",
       "      <td>9.550558</td>\n",
       "      <td>3.747442e+06</td>\n",
       "    </tr>\n",
       "    <tr>\n",
       "      <th>12</th>\n",
       "      <td>8.491984e+19</td>\n",
       "      <td>9.367279</td>\n",
       "      <td>6.867651</td>\n",
       "      <td>1.228157</td>\n",
       "      <td>9.555464</td>\n",
       "      <td>3.674357e+06</td>\n",
       "    </tr>\n",
       "  </tbody>\n",
       "</table>\n",
       "</div>"
      ],
      "text/plain": [
       "              ne         a        BT         R       q95          P_lh\n",
       "0   4.370861e+19  1.282863  6.778285  1.465135  1.928115  8.815292e+05\n",
       "1   9.556429e+19  6.727694  1.757260  5.782192  9.122976  8.957567e+06\n",
       "2   7.587945e+19  3.829204  2.454658  5.865716  5.547271  4.518826e+06\n",
       "3   6.387926e+19  5.577136  9.086988  6.736869  8.438117  9.286648e+06\n",
       "4   2.404168e+19  9.168098  6.457862  7.534822  3.880446  6.872281e+06\n",
       "5   2.403951e+19  3.243630  1.082773  9.782669  9.059709  1.840149e+06\n",
       "7   8.795585e+19  7.799960  6.971516  3.906608  1.097539  1.374971e+07\n",
       "8   6.410035e+19  3.059183  1.045554  8.156676  9.148438  3.705082e+06\n",
       "11  9.729189e+19  2.450992  7.227057  1.706107  9.550558  3.747442e+06\n",
       "12  8.491984e+19  9.367279  6.867651  1.228157  9.555464  3.674357e+06"
      ]
     },
     "execution_count": 31,
     "metadata": {},
     "output_type": "execute_result"
    }
   ],
   "source": [
    "# real data for the full power law fit\n",
    "\n",
    "data = pd.read_csv('data/01-02-power_law_scaling-data.csv')\n",
    "\n",
    "data=data[data>=0].dropna() #drops out values with negative P_lh\n",
    "\n",
    "data.head(10)"
   ]
  },
  {
   "cell_type": "code",
   "execution_count": 3,
   "metadata": {},
   "outputs": [
    {
     "data": {
      "text/html": [
       "<div>\n",
       "<style scoped>\n",
       "    .dataframe tbody tr th:only-of-type {\n",
       "        vertical-align: middle;\n",
       "    }\n",
       "\n",
       "    .dataframe tbody tr th {\n",
       "        vertical-align: top;\n",
       "    }\n",
       "\n",
       "    .dataframe thead th {\n",
       "        text-align: right;\n",
       "    }\n",
       "</style>\n",
       "<table border=\"1\" class=\"dataframe\">\n",
       "  <thead>\n",
       "    <tr style=\"text-align: right;\">\n",
       "      <th></th>\n",
       "      <th>log_ne</th>\n",
       "      <th>log_a</th>\n",
       "      <th>log_BT</th>\n",
       "      <th>log_R</th>\n",
       "      <th>log_q95</th>\n",
       "      <th>log_P_lh</th>\n",
       "    </tr>\n",
       "  </thead>\n",
       "  <tbody>\n",
       "    <tr>\n",
       "      <th>0</th>\n",
       "      <td>19.640567</td>\n",
       "      <td>0.108180</td>\n",
       "      <td>0.831120</td>\n",
       "      <td>0.165878</td>\n",
       "      <td>0.285133</td>\n",
       "      <td>5.945237</td>\n",
       "    </tr>\n",
       "    <tr>\n",
       "      <th>1</th>\n",
       "      <td>19.980296</td>\n",
       "      <td>0.827866</td>\n",
       "      <td>0.244836</td>\n",
       "      <td>0.762092</td>\n",
       "      <td>0.960137</td>\n",
       "      <td>6.952190</td>\n",
       "    </tr>\n",
       "    <tr>\n",
       "      <th>2</th>\n",
       "      <td>19.880124</td>\n",
       "      <td>0.583108</td>\n",
       "      <td>0.389991</td>\n",
       "      <td>0.768321</td>\n",
       "      <td>0.744079</td>\n",
       "      <td>6.655026</td>\n",
       "    </tr>\n",
       "    <tr>\n",
       "      <th>3</th>\n",
       "      <td>19.805360</td>\n",
       "      <td>0.746411</td>\n",
       "      <td>0.958420</td>\n",
       "      <td>0.828458</td>\n",
       "      <td>0.926246</td>\n",
       "      <td>6.967859</td>\n",
       "    </tr>\n",
       "    <tr>\n",
       "      <th>4</th>\n",
       "      <td>19.380965</td>\n",
       "      <td>0.962279</td>\n",
       "      <td>0.810089</td>\n",
       "      <td>0.877073</td>\n",
       "      <td>0.588882</td>\n",
       "      <td>6.837101</td>\n",
       "    </tr>\n",
       "  </tbody>\n",
       "</table>\n",
       "</div>"
      ],
      "text/plain": [
       "      log_ne     log_a    log_BT     log_R   log_q95  log_P_lh\n",
       "0  19.640567  0.108180  0.831120  0.165878  0.285133  5.945237\n",
       "1  19.980296  0.827866  0.244836  0.762092  0.960137  6.952190\n",
       "2  19.880124  0.583108  0.389991  0.768321  0.744079  6.655026\n",
       "3  19.805360  0.746411  0.958420  0.828458  0.926246  6.967859\n",
       "4  19.380965  0.962279  0.810089  0.877073  0.588882  6.837101"
      ]
     },
     "execution_count": 3,
     "metadata": {},
     "output_type": "execute_result"
    }
   ],
   "source": [
    "# logarithmized data for the linear fit\n",
    "\n",
    "data_log = pd.read_csv('data/01-02-power_law_scaling-log_data.csv')\n",
    "data_log=data_log.dropna() # filters out lines with NaN P_lh values\n",
    "\n",
    "data_log.head()"
   ]
  },
  {
   "cell_type": "code",
   "execution_count": null,
   "metadata": {},
   "outputs": [
    {
     "data": {
      "text/plain": [
       "array([0.11631819, 0.38002769, 0.99560878, 0.36141438, 0.44630932,\n",
       "       0.00522906])"
      ]
     },
     "execution_count": 4,
     "metadata": {},
     "output_type": "execute_result"
    }
   ],
   "source": [
    "X_log=np.column_stack((np.ones_like(data_log.iloc[:,0]),data_log.iloc[:,0],data_log.iloc[:,1],data_log.iloc[:,2],data_log.iloc[:,3],data_log.iloc[:,4]))\n",
    "Y_log=data_log.iloc[:,5]\n",
    "\n",
    "beta_log = np.linalg.lstsq(X_log,Y_log,rcond=None)[0] #linear model\n",
    "beta_log[0]=np.exp(beta_log[0]) #exp(alpha_0)\n",
    "beta_log #final result"
   ]
  },
  {
   "cell_type": "code",
   "execution_count": null,
   "metadata": {},
   "outputs": [
    {
     "data": {
      "text/plain": [
       "223925832.38867867"
      ]
     },
     "execution_count": 5,
     "metadata": {},
     "output_type": "execute_result"
    }
   ],
   "source": [
    "# new data for the prediction\n",
    "data_new = pd.DataFrame({\n",
    "    'n_e': [9e19],\n",
    "    'a': [8.],\n",
    "    'B_T': [9.5],\n",
    "    'R': [10.],\n",
    "    'q_95': [3.]\n",
    "})\n",
    "\n",
    "\n",
    "P_lh_log=P_lh(data_new.values[0,:],*beta_log) # P_lh from data_log using linear fit\n",
    "P_lh_log\n"
   ]
  },
  {
   "cell_type": "code",
   "execution_count": null,
   "metadata": {},
   "outputs": [
    {
     "data": {
      "text/plain": [
       "array([ 3.17175675e-14,  9.22736056e-01,  1.44351055e+00,  5.11483199e-01,\n",
       "        7.76894486e-01, -2.98282749e-03])"
      ]
     },
     "execution_count": 45,
     "metadata": {},
     "output_type": "execute_result"
    }
   ],
   "source": [
    "X=np.column_stack((data.iloc[:,0],data.iloc[:,1],data.iloc[:,2],data.iloc[:,3],data.iloc[:,4]))\n",
    "Y=data.iloc[:,5]\n",
    "\n",
    "popt, pcov = curve_fit(P_lh,X.T,Y,p0=beta_log,maxfev=2000) #non-linear model, used linear model as baseline p0\n",
    "\n",
    "popt"
   ]
  },
  {
   "cell_type": "code",
   "execution_count": 47,
   "metadata": {},
   "outputs": [
    {
     "data": {
      "text/plain": [
       "31115683.465297226"
      ]
     },
     "execution_count": 47,
     "metadata": {},
     "output_type": "execute_result"
    }
   ],
   "source": [
    "P_lh_non=P_lh(data_new.values[0,:],*popt) # P_lh from data using non-linear fit\n",
    "P_lh_non"
   ]
  },
  {
   "cell_type": "code",
   "execution_count": null,
   "metadata": {},
   "outputs": [
    {
     "data": {
      "text/plain": [
       "7.196558373478095"
      ]
     },
     "execution_count": 49,
     "metadata": {},
     "output_type": "execute_result"
    }
   ],
   "source": [
    "P_lh_non/P_lh_log #P_lh_non is approx 7 times smaller than P_lh_log"
   ]
  }
 ],
 "metadata": {
  "kernelspec": {
   "display_name": "o2eadp-uUHA5mNn-py3.12",
   "language": "python",
   "name": "python3"
  },
  "language_info": {
   "codemirror_mode": {
    "name": "ipython",
    "version": 3
   },
   "file_extension": ".py",
   "mimetype": "text/x-python",
   "name": "python",
   "nbconvert_exporter": "python",
   "pygments_lexer": "ipython3",
   "version": "3.12.3"
  }
 },
 "nbformat": 4,
 "nbformat_minor": 2
}
